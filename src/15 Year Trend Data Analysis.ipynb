{
 "cells": [
  {
   "cell_type": "code",
   "execution_count": 1,
   "metadata": {},
   "outputs": [],
   "source": [
    "# Seattle Zipcodes from http://www.discoverseattle.net/zipcodes.php\n",
    "zipcodes = [\"98101\", \"98102\", \"98103\", \"98104\", \"98105\", \"98106\", \"98107\", \"98108\", \"98109\", \"98110\", \"98111\", \"98112\", \"98114\", \"98115\", \"98116\", \"98117\", \"98118\", \"98119\", \"98121\", \"98122\", \"98124\", \"98125\", \"98126\", \"98129\", \"98131\", \"98132\", \"98133\", \"98134\", \"98136\", \"98138\", \"98144\", \"98145\", \"98146\", \"98148\", \"98151\", \"98154\", \"98155\", \"98158\", \"98160\", \"98161\", \"98164\", \"98166\", \"98168\", \"98170\", \"98171\", \"98174\", \"98177\", \"98178\", \"98181\", \"98184\", \"98185\", \"98188\", \"98190\", \"98191\", \"98195\", \"98198\", \"98199\"]"
   ]
  },
  {
   "cell_type": "code",
   "execution_count": 2,
   "metadata": {},
   "outputs": [],
   "source": [
    "# Certain conditions mean there will not be an entry for a given zipcode\n",
    "# in the irs datasets. If it is a PO box, or has fewer than a certain\n",
    "# number of total returns then the zipcode is grouped into larger zipcode\n",
    "# groups where zeroes at the end represent wildcards. For example\n",
    "# if the zipcode 98195 had only 10 returns, it would be grouped into\n",
    "# 98190 or 98100 until a certain minimum amount was reached."
   ]
  },
  {
   "cell_type": "code",
   "execution_count": 3,
   "metadata": {},
   "outputs": [],
   "source": [
    "# First we will want to load our datasets into a pandas dataframe\n",
    "# and see which zipcodes exist in all datasets. It may become necessary\n",
    "# to ignore the certin datasets if certain zipcodes are not present. \n",
    "# for example if earlier datasets do not have all the zipcodes for the\n",
    "# neighborhoods I am most interested in such as Madison Park and \n",
    "# Ranier Beach.\n",
    "\n",
    "import pandas as pd\n",
    "import math"
   ]
  },
  {
   "cell_type": "code",
   "execution_count": 4,
   "metadata": {},
   "outputs": [],
   "source": [
    "# The first six years have the zipcode in the very first column.\n",
    "seattle_1998 = pd.read_csv('../cleaned_wa_zipcodes/1998_wa_cleaned.csv')\n",
    "seattle_2001 = pd.read_csv('../cleaned_wa_zipcodes/2001_wa_cleaned.csv')\n",
    "seattle_2002 = pd.read_csv('../cleaned_wa_zipcodes/2002_wa_cleaned.csv')\n",
    "seattle_2004 = pd.read_csv('../cleaned_wa_zipcodes/2004_wa_cleaned.csv')\n",
    "seattle_2005 = pd.read_csv('../cleaned_wa_zipcodes/2005_wa_cleaned.csv')\n",
    "seattle_2006 = pd.read_csv('../cleaned_wa_zipcodes/2006_wa_cleaned.csv')\n",
    "# more recent years have their own zipcode column\n",
    "seattle_2007 = pd.read_csv('../cleaned_wa_zipcodes/2007_wa_cleaned.csv')\n",
    "seattle_2008 = pd.read_csv('../cleaned_wa_zipcodes/2008_wa_cleaned.csv')\n",
    "seattle_2009 = pd.read_csv('../cleaned_wa_zipcodes/2009_wa_cleaned.csv')\n",
    "seattle_2010 = pd.read_csv('../cleaned_wa_zipcodes/2010_wa_cleaned.csv')\n",
    "seattle_2011 = pd.read_csv('../cleaned_wa_zipcodes/2011_wa_cleaned.csv')\n",
    "seattle_2012 = pd.read_csv('../cleaned_wa_zipcodes/2012_wa_cleaned.csv')\n",
    "seattle_2013 = pd.read_csv('../cleaned_wa_zipcodes/2013_wa_cleaned.csv')\n",
    "seattle_2014 = pd.read_csv('../cleaned_wa_zipcodes/2014_wa_cleaned.csv')\n",
    "seattle_2015 = pd.read_csv('../cleaned_wa_zipcodes/2015_wa_cleaned.csv')"
   ]
  },
  {
   "cell_type": "code",
   "execution_count": 5,
   "metadata": {},
   "outputs": [],
   "source": [
    "## 2016 Data should be coming in August of 2018 so that shoud be cool!\n",
    "## This is from looking at meta data for the documentation on the 2015 and 2014 datasets\n",
    "## which both indicated the documents were created and modified late summer/autumn\n",
    "## two years after the year of the tax returns in question"
   ]
  },
  {
   "cell_type": "code",
   "execution_count": 6,
   "metadata": {},
   "outputs": [],
   "source": [
    "## FUTURE WORK could try and narrow down the difference between the sub-rows to each zipcode that \n",
    "## enumerate the returns/amounts for certain AGI. Typically they are:\n",
    "# [\"Under $10,000\", \"$10,000 under $25,000\", \"$25,000 under $50,000\", \"$50,000 or more\"]\n",
    "# HOWEVER the records for this rows can often be asterisks (* or **) if the records are too few in number.\n",
    "# This is explained in documentation for the data files available in this repository or the\n",
    "# IRS website. LASTLY to analyze the sub-rows will probably require more data cleaning."
   ]
  },
  {
   "cell_type": "code",
   "execution_count": 14,
   "metadata": {},
   "outputs": [],
   "source": [
    "# Works on files that have been cleaned to reflect\n",
    "# that the zipcodes are stored in the same column as the AGI\n",
    "def check_zipcodes_type1(dataframe):\n",
    "    zipcodes_present = []\n",
    "    for i in range(0, len(dataframe['adjusted_gross_income_size_and_zipcode'])):\n",
    "        if dataframe['adjusted_gross_income_size_and_zipcode'][i] in zipcodes:\n",
    "            zipcodes_present.append(dataframe['adjusted_gross_income_size_and_zipcode'][i])\n",
    "    return zipcodes_present\n",
    "\n",
    "# Works on files that have their own zipcode column.\n",
    "def check_zipcodes_type2(dataframe):\n",
    "    zipcodes_present = set();\n",
    "    for i in range(0, len(dataframe['zipcode'])):\n",
    "        if dataframe['zipcode'][i] in zipcodes:\n",
    "            zipcodes_present.add(dataframe['zipcode'][i])\n",
    "    return zipcodes_present\n",
    "\n",
    "# Works on 2008 becauase somehow that file got altered and isn't being parsed like the rest.\n",
    "# I can't really be bothered to re-clean the data or figure out the issue so I am just\n",
    "# making a method to handle the strange type-declarations of its frame.\n",
    "def check_zipcodes_type3(dataframe):\n",
    "    zipcodes_present = set();\n",
    "    for i in range(0, len(dataframe['zipcode'])):\n",
    "        if not math.isnan(dataframe['zipcode'][i]):\n",
    "            if str(int(dataframe['zipcode'][i])) in zipcodes:\n",
    "                zipcodes_present.add(dataframe['zipcode'][i])\n",
    "    return zipcodes_present"
   ]
  },
  {
   "cell_type": "code",
   "execution_count": 15,
   "metadata": {},
   "outputs": [],
   "source": [
    "# older\n",
    "zipcodes_in_1998 = check_zipcodes_type1(seattle_1998)\n",
    "zipcodes_in_2001 = check_zipcodes_type1(seattle_2001)\n",
    "zipcodes_in_2002 = check_zipcodes_type1(seattle_2002)\n",
    "zipcodes_in_2004 = check_zipcodes_type1(seattle_2004)\n",
    "zipcodes_in_2005 = check_zipcodes_type1(seattle_2005)\n",
    "zipcodes_in_2006 = check_zipcodes_type1(seattle_2006)\n",
    "\n",
    "# recent\n",
    "zipcodes_in_2007 = check_zipcodes_type2(seattle_2007)\n",
    "zipcodes_in_2008 = check_zipcodes_type3(seattle_2008) ## Note the special funciton to handle 2008 \n",
    "zipcodes_in_2009 = check_zipcodes_type2(seattle_2009)\n",
    "zipcodes_in_2010 = check_zipcodes_type2(seattle_2010)\n",
    "zipcodes_in_2011 = check_zipcodes_type2(seattle_2011)\n",
    "zipcodes_in_2012 = check_zipcodes_type2(seattle_2012)\n",
    "zipcodes_in_2013 = check_zipcodes_type2(seattle_2013)\n",
    "zipcodes_in_2014 = check_zipcodes_type2(seattle_2014)\n",
    "zipcodes_in_2015 = check_zipcodes_type2(seattle_2015)\n",
    "\n",
    "zipcodes_contained_all_years = [\n",
    "    zipcodes_in_1998,\n",
    "    zipcodes_in_2001,\n",
    "    zipcodes_in_2002,\n",
    "    zipcodes_in_2004,\n",
    "    zipcodes_in_2005,\n",
    "    zipcodes_in_2006,\n",
    "    zipcodes_in_2007,\n",
    "    zipcodes_in_2008,\n",
    "    zipcodes_in_2009,\n",
    "    zipcodes_in_2010,\n",
    "    zipcodes_in_2011,\n",
    "    zipcodes_in_2012,\n",
    "    zipcodes_in_2013,\n",
    "    zipcodes_in_2014,\n",
    "    zipcodes_in_2015\n",
    "]"
   ]
  },
  {
   "cell_type": "code",
   "execution_count": 16,
   "metadata": {},
   "outputs": [
    {
     "name": "stdout",
     "output_type": "stream",
     "text": [
      "length of 1998: 44\n",
      "length of 2001: 43\n",
      "length of 2002: 42\n",
      "length of 2004: 42\n",
      "length of 2005: 42\n",
      "length of 2006: 42\n",
      "length of 2007: 43\n",
      "length of 2008: 38\n",
      "length of 2009: 35\n",
      "length of 2010: 35\n",
      "length of 2011: 35\n",
      "length of 2012: 35\n",
      "length of 2013: 35\n",
      "length of 2014: 35\n",
      "length of 2015: 35\n"
     ]
    }
   ],
   "source": [
    "# Getting smallest fully applicable zips for older datasets\n",
    "\n",
    "print(\"length of 1998: \" + str(len(zipcodes_in_1998)))\n",
    "print(\"length of 2001: \" + str(len(zipcodes_in_2001)))\n",
    "print(\"length of 2002: \" + str(len(zipcodes_in_2002)))\n",
    "print(\"length of 2004: \" + str(len(zipcodes_in_2004)))\n",
    "print(\"length of 2005: \" + str(len(zipcodes_in_2005)))\n",
    "print(\"length of 2006: \" + str(len(zipcodes_in_2006)))\n",
    "\n",
    "# Now we check the zipcodes in the more recent years for their smallest most applicable range\n",
    "print(\"length of 2007: \" + str(len(zipcodes_in_2007)))\n",
    "print(\"length of 2008: \" + str(len(zipcodes_in_2008)))\n",
    "print(\"length of 2009: \" + str(len(zipcodes_in_2009)))\n",
    "print(\"length of 2010: \" + str(len(zipcodes_in_2010)))\n",
    "print(\"length of 2011: \" + str(len(zipcodes_in_2011)))\n",
    "print(\"length of 2012: \" + str(len(zipcodes_in_2012)))\n",
    "print(\"length of 2013: \" + str(len(zipcodes_in_2013)))\n",
    "print(\"length of 2014: \" + str(len(zipcodes_in_2014)))\n",
    "print(\"length of 2015: \" + str(len(zipcodes_in_2015)))"
   ]
  },
  {
   "cell_type": "code",
   "execution_count": 17,
   "metadata": {},
   "outputs": [
    {
     "name": "stdout",
     "output_type": "stream",
     "text": [
      "set(['98118', '98119', '98116', '98117', '98115', '98112', '98110', '98198', '98199', '98178', '98144', '98122', '98148', '98164', '98121', '98109', '98108', '98105', '98104', '98107', '98106', '98101', '98126', '98125', '98102', '98103', '98166', '98146', '98188', '98155', '98134', '98136', '98133', '98168', '98177'])\n"
     ]
    }
   ],
   "source": [
    "print(zipcodes_in_2015)"
   ]
  },
  {
   "cell_type": "code",
   "execution_count": 18,
   "metadata": {},
   "outputs": [],
   "source": [
    "# The goal here is to start with all the zipcodes in 201, and then go back in time and only consider\n",
    "# zipcodes that are present in 2015 and every preceeding year. Effectively these will be zipcodes that\n",
    "# we have 15 years of data for.\n",
    "zipcodes_in_2015 = list(zipcodes_in_2015)\n",
    "final_zips_data_1998_to_2015 = set()\n",
    "for i in range(0, len(zipcodes_in_2015)):\n",
    "    for this_year in zipcodes_contained_all_years:\n",
    "        if zipcodes_in_2015[i] in list(this_year):\n",
    "            final_zips_data_1998_to_2015.add(zipcodes_in_2015[i])"
   ]
  },
  {
   "cell_type": "code",
   "execution_count": 19,
   "metadata": {},
   "outputs": [
    {
     "name": "stdout",
     "output_type": "stream",
     "text": [
      "set(['98118', '98119', '98116', '98117', '98115', '98112', '98110', '98198', '98199', '98134', '98144', '98122', '98148', '98164', '98107', '98109', '98108', '98133', '98105', '98104', '98121', '98106', '98101', '98126', '98125', '98102', '98103', '98166', '98146', '98188', '98178', '98136', '98155', '98168', '98177'])\n",
      "length of final zips: 35\n"
     ]
    }
   ],
   "source": [
    "print(final_zips_data_1998_to_2015)\n",
    "print(\"length of final zips: \" + str(len(final_zips_data_1998_to_2015)))"
   ]
  },
  {
   "cell_type": "code",
   "execution_count": 20,
   "metadata": {},
   "outputs": [],
   "source": [
    "# the final list of zips that we can track for 15 of the last 20 years is:\n",
    "# ['98115', '98133', '98116', '98101', '98177', '98198', '98109', '98108', '98104', '98107', '98112', '98118', '98126', '98125', '98168', '98121', '98148', '98136', '98105', '98122', '98178', '98146', '98155', '98117', '98144', '98188', '98110', '98164', '98199', '98134', '98166', '98103', '98106', '98119', '98102']\n",
    "fifteen_year_zipcodes = final_zips_data_1998_to_2015"
   ]
  },
  {
   "cell_type": "code",
   "execution_count": 21,
   "metadata": {},
   "outputs": [
    {
     "data": {
      "text/plain": [
       "35"
      ]
     },
     "execution_count": 21,
     "metadata": {},
     "output_type": "execute_result"
    }
   ],
   "source": [
    "len(fifteen_year_zipcodes)"
   ]
  },
  {
   "cell_type": "code",
   "execution_count": 22,
   "metadata": {},
   "outputs": [
    {
     "name": "stdout",
     "output_type": "stream",
     "text": [
      "  adjusted_gross_income_size_and_zipcode    returns  \\\n",
      "0                                    NaN        (1)   \n",
      "1                             WASHINGTON  2,602,511   \n",
      "2                  Under $10,000            508,744   \n",
      "3                  $10,000 under $25,000    640,682   \n",
      "4                  $25,000 under $50,000    695,768   \n",
      "\n",
      "  number_of_exemptions_total number_of_exemptions_dependent_exemptions  \\\n",
      "0                        (2)                                       (3)   \n",
      "1                  5,085,271                                 1,596,423   \n",
      "2                    481,089                                   127,900   \n",
      "3                  1,063,760                                   297,379   \n",
      "4                  1,459,282                                   461,372   \n",
      "\n",
      "  adjusted_gross_income salaries_and_wages_number_of_returns  \\\n",
      "0                   (4)                                  (5)   \n",
      "1           124,833,037                            2,203,182   \n",
      "2             1,068,532                              404,281   \n",
      "3            11,015,471                              517,487   \n",
      "4            25,280,103                              611,686   \n",
      "\n",
      "  salaries_and_wages_amount taxable_interest_number_of_returns  \\\n",
      "0                       (6)                                (7)   \n",
      "1                87,464,715                          1,528,189   \n",
      "2                 2,083,247                            181,495   \n",
      "3                 8,303,854                            275,187   \n",
      "4                20,417,374                            422,078   \n",
      "\n",
      "  taxable_interest_amount earned_income_credit_number_of_returns  \\\n",
      "0                     (8)                                    (9)   \n",
      "1               3,980,745                                298,018   \n",
      "2                 205,626                                132,925   \n",
      "3                 474,116                                143,248   \n",
      "4                 663,358                                 21,845   \n",
      "\n",
      "  earned_income_credit_amount total_tax_number_of_returns total_tax_amount  \\\n",
      "0                        (10)                        (11)             (12)   \n",
      "1                     432,446                   2,173,362       20,641,534   \n",
      "2                     145,999                     203,768           78,703   \n",
      "3                     276,443                     532,526          715,509   \n",
      "4                      10,004                     680,778        2,513,635   \n",
      "\n",
      "  schedule_c_number_of_returns number_of_schedules_c  \\\n",
      "0                         (13)                  (14)   \n",
      "1                      362,414               419,906   \n",
      "2                       49,167                56,522   \n",
      "3                       67,013                77,669   \n",
      "4                       97,992               113,814   \n",
      "\n",
      "  schedule_f_number_of_returns number_of_schedules_f  \\\n",
      "0                         (15)                  (16)   \n",
      "1                       29,878                30,950   \n",
      "2                        4,514                 4,721   \n",
      "3                        5,304                 5,478   \n",
      "4                        7,868                 8,128   \n",
      "\n",
      "  schedule_a_deductions_number_of_returns schedule_a_deductions_amount  \n",
      "0                                    (17)                         (18)  \n",
      "1                                 839,788                   13,531,827  \n",
      "2                                  18,489                      285,210  \n",
      "3                                  67,794                      770,255  \n",
      "4                                 226,770                    2,634,345  \n"
     ]
    }
   ],
   "source": [
    "# There is a limited number of columns that are present in all datasets. In particular,\n",
    "# 1998 and some of the earliest datasets have < 20 columns. Luckily the column that is present\n",
    "# in all of them is the salaries and wages amount + returns.\n",
    "# The plan is to get salaries_and_wages_amount / salaries_and_wages_returns for zipcode in\n",
    "# the fifteen_year_zipcodes list, for all datasets. This should give some vague notion\n",
    "# as to how incomes have changed for people submitting tax returns in given zipcdes\n",
    "# over the years.\n",
    "\n",
    "## FUTURE WORK could look at other columns that are present in all datasets, or at a subset of datasets\n",
    "## with perhaps more interesting columns to see hw those values have changed.\n",
    "print(seattle_1998.head())"
   ]
  },
  {
   "cell_type": "code",
   "execution_count": 163,
   "metadata": {},
   "outputs": [],
   "source": [
    "# This funciton will take a dataframe representing cleaned zipcode data (as can be found in the directories of\n",
    "# this project), and string column name (this column must exist in the given zipcode HOWEVER please note that\n",
    "# this column name needs omit the suffix +\"_amount\" or \"_number_of_returns. Because when cleaning the data\n",
    "# I noticed that columns came in pairs, one representing the amount of money and one representing the number\n",
    "# of returns (which approximates households) I decided to have a consistent naming convention where the same\n",
    "# prefix would correspond to thos etwo different columns with the values mentioned before), there is\n",
    "# also a zipcodeInclusionList which decides which zipcodes to include Default is all\n",
    "# Seattle zipcodes from the top of the file but you will probably want to focus on a subset because\n",
    "# not all zipcodes are present in every file.\n",
    "def get_computed_average_per_zipcode_type1(dataframe, columnName, zipcodeInclusionList = zipcodes):\n",
    "    cols = [\"zipcode\", \"amount\", \"returns\", \"avg\"]\n",
    "    resultFrame = pd.DataFrame(columns=cols)\n",
    "    for i in range(0, len(dataframe['adjusted_gross_income_size_and_zipcode'])):\n",
    "        if dataframe['adjusted_gross_income_size_and_zipcode'][i] in zipcodeInclusionList:\n",
    "            zipcode = dataframe['adjusted_gross_income_size_and_zipcode'][i]\n",
    "            amount = dataframe[columnName + '_amount'][i]\n",
    "            returns = dataframe[columnName + '_number_of_returns'][i]\n",
    "            currentFrame = pd.DataFrame()\n",
    "            if(amount == \"**\" or returns == \"**\" or returns == \"*\" or amount == \"*\"):\n",
    "                currentFrame = pd.DataFrame([[zipcode, \"**\", \"**\", \"**\"]], columns=cols) \n",
    "            else:\n",
    "                avg = float(amount.replace(\",\",\"\")) / float(returns.replace(\",\",\"\"))\n",
    "                currentFrame = pd.DataFrame([[zipcode, amount, returns, avg]], columns=cols)\n",
    "            resultFrame = resultFrame.append(currentFrame, ignore_index=True)\n",
    "    return resultFrame\n",
    "            \n",
    "\n",
    "def get_computed_average_per_zipcode_type2(dataframe, columnName, zipcodeInclusionList = zipcodes):\n",
    "    # Make a copy of the set because we don't want to clear out the list?\n",
    "    # this is because of the newer datasets storing zipcode on every line\n",
    "    # for the income bracket descriptors.\n",
    "    \n",
    "    # Also the 2008 file as commas separating every 3 tens places.\n",
    "    # I mean, freaking commas. And it is the only time it occurs too. It's wack.\n",
    "    zipcodeInclusionList = zipcodeInclusionList.copy()\n",
    "    cols = [\"zipcode\", \"amount\", \"returns\", \"avg\"]\n",
    "    resultFrame = pd.DataFrame(columns=cols)\n",
    "    for i in range(0, len(dataframe['zipcode'])):\n",
    "        if dataframe['zipcode'][i] in zipcodeInclusionList:\n",
    "            zipcode = dataframe['zipcode'][i]\n",
    "            amount = dataframe[columnName + '_amount'][i]\n",
    "            returns = dataframe[columnName + '_number_of_returns'][i]\n",
    "            currentFrame = pd.DataFrame()\n",
    "            if(amount == \"**\" or returns == \"**\" or returns == \"*\" or amount == \"*\"):\n",
    "                currentFrame = pd.DataFrame([[zipcode, \"**\", \"**\", \"**\"]], columns=cols) \n",
    "            else:\n",
    "                avg = float(amount.replace(\",\",\"\")) / float(returns.replace(\",\",\"\"))\n",
    "                currentFrame = pd.DataFrame([[zipcode, amount, returns, avg]], columns=cols)\n",
    "            resultFrame = resultFrame.append(currentFrame, ignore_index=True)\n",
    "            zipcodeInclusionList.remove(zipcode)\n",
    "    return resultFrame\n",
    "            \n",
    "# seriously just screw that 2008 dataset. It's all sorts of messed up\n",
    "def get_computed_average_per_zipcode_type3(dataframe, columnName, zipcodeInclusionList = zipcodes):\n",
    "    # Make a copy of the set because we don't want to clear out the list?\n",
    "    # this is because of the newer datasets storing zipcode on every line\n",
    "    # for the income bracket descriptors.\n",
    "    \n",
    "    # Also the 2008 file as commas separating every 3 tens places.\n",
    "    # I mean, freaking commas. And it is the only time it occurs too. It's wack.\n",
    "    zipcodeInclusionList = zipcodeInclusionList.copy()\n",
    "    cols = [\"zipcode\", \"amount\", \"returns\", \"avg\"]\n",
    "    resultFrame = pd.DataFrame(columns=cols)\n",
    "    for i in range(0, len(dataframe['zipcode'])):\n",
    "        if not math.isnan(dataframe['zipcode'][i]):\n",
    "            zipcodeFormatted = str(int(dataframe['zipcode'][i]))\n",
    "            if zipcodeFormatted in zipcodeInclusionList:\n",
    "                zipcode = zipcodeFormatted\n",
    "                amount = dataframe[columnName + '_amount'][i]\n",
    "                returns = dataframe['returns'][i]\n",
    "                currentFrame = pd.DataFrame()\n",
    "                if(amount == \"**\" or returns == \"**\" or returns == \"*\" or amount == \"*\"):\n",
    "                    currentFrame = pd.DataFrame([[zipcode, \"**\", \"**\", \"**\"]], columns=cols) \n",
    "                else:\n",
    "                    avg = float(amount.replace(\",\",\"\")) / float(returns.replace(\",\",\"\"))\n",
    "                    currentFrame = pd.DataFrame([[zipcode, amount, returns, avg]], columns=cols)\n",
    "                resultFrame = resultFrame.append(currentFrame, ignore_index=True)\n",
    "                zipcodeInclusionList.remove(zipcode)\n",
    "    return resultFrame"
   ]
  },
  {
   "cell_type": "code",
   "execution_count": 165,
   "metadata": {},
   "outputs": [],
   "source": [
    "avg_salaries_1998 = get_computed_average_per_zipcode_type1(seattle_1998, \"salaries_and_wages\", fifteen_year_zipcodes)\n",
    "avg_salaries_2001 = get_computed_average_per_zipcode_type1(seattle_2001, \"salaries_and_wages\", fifteen_year_zipcodes)\n",
    "avg_salaries_2002 = get_computed_average_per_zipcode_type1(seattle_2002, \"salaries_and_wages\", fifteen_year_zipcodes)\n",
    "avg_salaries_2004 = get_computed_average_per_zipcode_type1(seattle_2004, \"salaries_and_wages\", fifteen_year_zipcodes)\n",
    "avg_salaries_2005 = get_computed_average_per_zipcode_type1(seattle_2005, \"salaries_and_wages\", fifteen_year_zipcodes)\n",
    "avg_salaries_2006 = get_computed_average_per_zipcode_type1(seattle_2006, \"salaries_and_wages\", fifteen_year_zipcodes)"
   ]
  },
  {
   "cell_type": "code",
   "execution_count": 169,
   "metadata": {},
   "outputs": [],
   "source": [
    "avg_salaries_2007 = get_computed_average_per_zipcode_type2(seattle_2007, \"salaries_and_wages\", fifteen_year_zipcodes)\n",
    "### Special case\n",
    "avg_salaries_2008 = get_computed_average_per_zipcode_type3(seattle_2008, \"salaries_and_wages\", fifteen_year_zipcodes)\n",
    "## special case is 2008 which uses a third type of function\n",
    "avg_salaries_2009 = get_computed_average_per_zipcode_type2(seattle_2009, \"salaries_and_wages\", fifteen_year_zipcodes)\n",
    "avg_salaries_2010 = get_computed_average_per_zipcode_type2(seattle_2010, \"salaries_and_wages\", fifteen_year_zipcodes)\n",
    "avg_salaries_2011 = get_computed_average_per_zipcode_type2(seattle_2011, \"salaries_and_wages\", fifteen_year_zipcodes)\n",
    "avg_salaries_2012 = get_computed_average_per_zipcode_type2(seattle_2012, \"salaries_and_wages\", fifteen_year_zipcodes)\n",
    "avg_salaries_2013 = get_computed_average_per_zipcode_type2(seattle_2013, \"salaries_and_wages\", fifteen_year_zipcodes)\n",
    "avg_salaries_2014 = get_computed_average_per_zipcode_type2(seattle_2014, \"salaries_and_wages\", fifteen_year_zipcodes)\n",
    "avg_salaries_2015 = get_computed_average_per_zipcode_type2(seattle_2015, \"salaries_and_wages\", fifteen_year_zipcodes)"
   ]
  },
  {
   "cell_type": "code",
   "execution_count": null,
   "metadata": {},
   "outputs": [],
   "source": []
  },
  {
   "cell_type": "code",
   "execution_count": 170,
   "metadata": {},
   "outputs": [],
   "source": [
    "all_averages_list = list()\n",
    "all_averages_list.append(avg_salaries_1998)\n",
    "all_averages_list.append(avg_salaries_2001)\n",
    "all_averages_list.append(avg_salaries_2002)\n",
    "all_averages_list.append(avg_salaries_2004)\n",
    "all_averages_list.append(avg_salaries_2005)\n",
    "all_averages_list.append(avg_salaries_2006)\n",
    "all_averages_list.append(avg_salaries_2007)\n",
    "all_averages_list.append(avg_salaries_2008)\n",
    "all_averages_list.append(avg_salaries_2009)\n",
    "all_averages_list.append(avg_salaries_2010)\n",
    "all_averages_list.append(avg_salaries_2011)\n",
    "all_averages_list.append(avg_salaries_2012)\n",
    "all_averages_list.append(avg_salaries_2013)\n",
    "all_averages_list.append(avg_salaries_2014)\n",
    "all_averages_list.append(avg_salaries_2015)"
   ]
  },
  {
   "cell_type": "code",
   "execution_count": 180,
   "metadata": {},
   "outputs": [
    {
     "name": "stdout",
     "output_type": "stream",
     "text": [
      "34.9406218656\n",
      "42.2107279693\n",
      "43.8705570832\n",
      "45.5508895325\n",
      "47.5239276486\n",
      "51.4556556557\n",
      "54.6668199798\n",
      "49.8924128398\n",
      "57.66215867\n",
      "58.7251264755\n",
      "62.9650045937\n",
      "66.6305691057\n",
      "70.5480127186\n",
      "76.5314546839\n",
      "81.1030802292\n"
     ]
    }
   ],
   "source": [
    "# And finally we can print the sequence of \n",
    "# \"average salaries and wages _reported income_ per tax-return per year by zipcode\"\n",
    "for frame in all_averages_list:\n",
    "    avg_for_year = frame.loc[frame['zipcode'] == '98107']['avg'].values[0]\n",
    "    print avg_for_year"
   ]
  },
  {
   "cell_type": "code",
   "execution_count": null,
   "metadata": {},
   "outputs": [],
   "source": []
  }
 ],
 "metadata": {
  "kernelspec": {
   "display_name": "Python 2",
   "language": "python",
   "name": "python2"
  },
  "language_info": {
   "codemirror_mode": {
    "name": "ipython",
    "version": 2
   },
   "file_extension": ".py",
   "mimetype": "text/x-python",
   "name": "python",
   "nbconvert_exporter": "python",
   "pygments_lexer": "ipython2",
   "version": "2.7.12"
  }
 },
 "nbformat": 4,
 "nbformat_minor": 2
}
