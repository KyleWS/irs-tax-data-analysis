{
 "cells": [
  {
   "cell_type": "code",
   "execution_count": 9,
   "metadata": {
    "collapsed": true
   },
   "outputs": [],
   "source": [
    "# Seattle Zipcodes from http://www.discoverseattle.net/zipcodes.php\n",
    "zipcodes = [\"98101\", \"98102\", \"98103\", \"98104\", \"98105\", \"98106\", \"98107\", \"98108\", \"98109\", \"98110\", \"98111\", \"98112\", \"98114\", \"98115\", \"98116\", \"98117\", \"98118\", \"98119\", \"98121\", \"98122\", \"98124\", \"98125\", \"98126\", \"98129\", \"98131\", \"98132\", \"98133\", \"98134\", \"98136\", \"98138\", \"98144\", \"98145\", \"98146\", \"98148\", \"98151\", \"98154\", \"98155\", \"98158\", \"98160\", \"98161\", \"98164\", \"98166\", \"98168\", \"98170\", \"98171\", \"98174\", \"98177\", \"98178\", \"98181\", \"98184\", \"98185\", \"98188\", \"98190\", \"98191\", \"98195\", \"98198\", \"98199\"]"
   ]
  },
  {
   "cell_type": "code",
   "execution_count": 10,
   "metadata": {},
   "outputs": [],
   "source": [
    "# Certain conditions mean there will not be an entry for a given zipcode\n",
    "# in the irs datasets. If it is a PO box, or has fewer than a certain\n",
    "# number of total returns then the zipcode is grouped into larger zipcode\n",
    "# groups where zeroes at the end represent wildcards. For example\n",
    "# if the zipcode 98195 had only 10 returns, it would be grouped into\n",
    "# 98190 or 98100 until a certain minimum amount was reached."
   ]
  },
  {
   "cell_type": "code",
   "execution_count": 11,
   "metadata": {
    "collapsed": true
   },
   "outputs": [],
   "source": [
    "# First we will want to load our datasets into a pandas dataframe\n",
    "# and see which zipcodes exist in all datasets. It may become necessary\n",
    "# to ignore the certin datasets if certain zipcodes are not present. \n",
    "# for example if earlier datasets do not have all the zipcodes for the\n",
    "# neighborhoods I am most interested in such as Madison Park and \n",
    "# Ranier Beach.\n",
    "\n",
    "import pandas as pd"
   ]
  },
  {
   "cell_type": "code",
   "execution_count": 35,
   "metadata": {},
   "outputs": [],
   "source": [
    "# The first six years have the zipcode in the very first column.\n",
    "seattle_1998 = pd.read_csv('../cleaned_wa_zipcodes/1998_wa_cleaned.csv')\n",
    "seattle_2001 = pd.read_csv('../cleaned_wa_zipcodes/2001_wa_cleaned.csv')\n",
    "seattle_2002 = pd.read_csv('../cleaned_wa_zipcodes/2002_wa_cleaned.csv')\n",
    "seattle_2004 = pd.read_csv('../cleaned_wa_zipcodes/2004_wa_cleaned.csv')\n",
    "seattle_2005 = pd.read_csv('../cleaned_wa_zipcodes/2005_wa_cleaned.csv')\n",
    "seattle_2006 = pd.read_csv('../cleaned_wa_zipcodes/2006_wa_cleaned.csv')\n",
    "# more recent years have their own zipcode column\n",
    "seattle_2007 = pd.read_csv('../cleaned_wa_zipcodes/2007_wa_cleaned.csv')\n",
    "seattle_2008 = pd.read_csv('../cleaned_wa_zipcodes/2008_wa_cleaned.csv')\n",
    "seattle_2009 = pd.read_csv('../cleaned_wa_zipcodes/2009_wa_cleaned.csv')\n",
    "seattle_2010 = pd.read_csv('../cleaned_wa_zipcodes/2010_wa_cleaned.csv')\n",
    "seattle_2011 = pd.read_csv('../cleaned_wa_zipcodes/2011_wa_cleaned.csv')\n",
    "seattle_2012 = pd.read_csv('../cleaned_wa_zipcodes/2012_wa_cleaned.csv')\n",
    "seattle_2013 = pd.read_csv('../cleaned_wa_zipcodes/2013_wa_cleaned.csv')\n",
    "seattle_2014 = pd.read_csv('../cleaned_wa_zipcodes/2014_wa_cleaned.csv')\n",
    "seattle_2015 = pd.read_csv('../cleaned_wa_zipcodes/2015_wa_cleaned.csv')"
   ]
  },
  {
   "cell_type": "code",
   "execution_count": 42,
   "metadata": {},
   "outputs": [],
   "source": [
    "# Works on files that have been cleaned to reflect\n",
    "# that the zipcodes are stored in the same column as the AGI\n",
    "def check_zipcodes_type1(dataframe):\n",
    "    zipcodes_present = []\n",
    "    for i in range(0, len(dataframe['adjusted_gross_income_size_and_zipcode'])):\n",
    "        if dataframe['adjusted_gross_income_size_and_zipcode'][i] in zipcodes:\n",
    "            zipcodes_present.append(dataframe['adjusted_gross_income_size_and_zipcode'][i])\n",
    "    return zipcodes_present\n",
    "\n",
    "# Works on files that have their own zipcode column.\n",
    "def check_zipcodes_type2(dataframe):\n",
    "    zipcodes_present = set();\n",
    "    for i in range(0, len(dataframe['zipcode'])):\n",
    "        if dataframe['zipcode'][i] in zipcodes:\n",
    "            zipcodes_present.add(dataframe['zipcode'][i])\n",
    "    return zipcodes_present"
   ]
  },
  {
   "cell_type": "code",
   "execution_count": 53,
   "metadata": {},
   "outputs": [],
   "source": [
    "# older\n",
    "zipcodes_in_1998 = check_zipcodes_type1(seattle_1998)\n",
    "zipcodes_in_2001 = check_zipcodes_type1(seattle_2001)\n",
    "zipcodes_in_2002 = check_zipcodes_type1(seattle_2002)\n",
    "zipcodes_in_2004 = check_zipcodes_type1(seattle_2004)\n",
    "zipcodes_in_2005 = check_zipcodes_type1(seattle_2005)\n",
    "zipcodes_in_2006 = check_zipcodes_type1(seattle_2006)\n",
    "\n",
    "# recent\n",
    "zipcodes_in_2007 = check_zipcodes_type2(seattle_2007)\n",
    "zipcodes_in_2008 = check_zipcodes_type2(seattle_2008)\n",
    "zipcodes_in_2009 = check_zipcodes_type2(seattle_2009)\n",
    "zipcodes_in_2010 = check_zipcodes_type2(seattle_2010)\n",
    "zipcodes_in_2011 = check_zipcodes_type2(seattle_2011)\n",
    "zipcodes_in_2012 = check_zipcodes_type2(seattle_2012)\n",
    "zipcodes_in_2013 = check_zipcodes_type2(seattle_2013)\n",
    "zipcodes_in_2014 = check_zipcodes_type2(seattle_2014)\n",
    "zipcodes_in_2015 = check_zipcodes_type2(seattle_2015)\n",
    "\n",
    "zipcodes_contained_all_years = [\n",
    "    zipcodes_in_1998,\n",
    "    zipcodes_in_2001,\n",
    "    zipcodes_in_2002,\n",
    "    zipcodes_in_2004,\n",
    "    zipcodes_in_2005,\n",
    "    zipcodes_in_2006,\n",
    "    zipcodes_in_2007,\n",
    "    zipcodes_in_2008,\n",
    "    zipcodes_in_2009,\n",
    "    zipcodes_in_2010,\n",
    "    zipcodes_in_2011,\n",
    "    zipcodes_in_2012,\n",
    "    zipcodes_in_2013,\n",
    "    zipcodes_in_2014,\n",
    "    zipcodes_in_2015\n",
    "]"
   ]
  },
  {
   "cell_type": "code",
   "execution_count": 49,
   "metadata": {},
   "outputs": [
    {
     "name": "stdout",
     "output_type": "stream",
     "text": [
      "length of 1998: 44\n",
      "length of 2001: 43\n",
      "length of 2002: 42\n",
      "length of 2004: 42\n",
      "length of 2005: 42\n",
      "length of 2006: 42\n",
      "length of 2007: 43\n",
      "length of 2008: 0\n",
      "length of 2009: 35\n",
      "length of 2010: 35\n",
      "length of 2011: 35\n",
      "length of 2012: 35\n",
      "length of 2013: 35\n",
      "length of 2014: 35\n",
      "length of 2015: 35\n"
     ]
    }
   ],
   "source": [
    "# Getting smallest fully applicable zips for older datasets\n",
    "\n",
    "print(\"length of 1998: \" + str(len(zipcodes_in_1998)))\n",
    "print(\"length of 2001: \" + str(len(zipcodes_in_2001)))\n",
    "print(\"length of 2002: \" + str(len(zipcodes_in_2002)))\n",
    "print(\"length of 2004: \" + str(len(zipcodes_in_2004)))\n",
    "print(\"length of 2005: \" + str(len(zipcodes_in_2005)))\n",
    "print(\"length of 2006: \" + str(len(zipcodes_in_2006)))\n",
    "\n",
    "# Now we check the zipcodes in the more recent years for their smallest most applicable range\n",
    "print(\"length of 2007: \" + str(len(zipcodes_in_2007)))\n",
    "print(\"length of 2008: \" + str(len(zipcodes_in_2008)))\n",
    "print(\"length of 2009: \" + str(len(zipcodes_in_2009)))\n",
    "print(\"length of 2010: \" + str(len(zipcodes_in_2010)))\n",
    "print(\"length of 2011: \" + str(len(zipcodes_in_2011)))\n",
    "print(\"length of 2012: \" + str(len(zipcodes_in_2012)))\n",
    "print(\"length of 2013: \" + str(len(zipcodes_in_2013)))\n",
    "print(\"length of 2014: \" + str(len(zipcodes_in_2014)))\n",
    "print(\"length of 2015: \" + str(len(zipcodes_in_2015)))"
   ]
  },
  {
   "cell_type": "code",
   "execution_count": 52,
   "metadata": {},
   "outputs": [
    {
     "name": "stdout",
     "output_type": "stream",
     "text": [
      "{'98115', '98133', '98116', '98101', '98177', '98198', '98109', '98108', '98104', '98107', '98112', '98118', '98126', '98125', '98168', '98121', '98148', '98136', '98105', '98122', '98178', '98146', '98155', '98117', '98144', '98188', '98110', '98164', '98199', '98134', '98166', '98103', '98106', '98119', '98102'}\n"
     ]
    }
   ],
   "source": [
    "print(zipcodes_in_2015)"
   ]
  },
  {
   "cell_type": "code",
   "execution_count": 60,
   "metadata": {},
   "outputs": [],
   "source": [
    "zipcodes_in_2015 = list(zipcodes_in_2015)\n",
    "final_zips_data_1998_to_2015 = set()\n",
    "for i in range(0, len(zipcodes_in_2015)):\n",
    "    for this_year in zipcodes_contained_all_years:\n",
    "        if zipcodes_in_2015[i] in list(this_year):\n",
    "            final_zips_data_1998_to_2015.add(zipcodes_in_2015[i])"
   ]
  },
  {
   "cell_type": "code",
   "execution_count": 62,
   "metadata": {},
   "outputs": [
    {
     "name": "stdout",
     "output_type": "stream",
     "text": [
      "{'98115', '98133', '98116', '98101', '98177', '98198', '98109', '98108', '98104', '98107', '98112', '98118', '98126', '98125', '98168', '98121', '98148', '98136', '98105', '98122', '98178', '98146', '98155', '98117', '98144', '98188', '98110', '98164', '98199', '98134', '98166', '98103', '98106', '98119', '98102'}\n",
      "length of final zips: 35\n"
     ]
    }
   ],
   "source": [
    "print(final_zips_data_1998_to_2015)\n",
    "print(\"length of final zips: \" + str(len(final_zips_data_1998_to_2015)))"
   ]
  },
  {
   "cell_type": "code",
   "execution_count": 63,
   "metadata": {
    "collapsed": true
   },
   "outputs": [],
   "source": [
    "# the final list of zips that we can track for 15 of the last 20 years is:\n",
    "# ['98115', '98133', '98116', '98101', '98177', '98198', '98109', '98108', '98104', '98107', '98112', '98118', '98126', '98125', '98168', '98121', '98148', '98136', '98105', '98122', '98178', '98146', '98155', '98117', '98144', '98188', '98110', '98164', '98199', '98134', '98166', '98103', '98106', '98119', '98102']\n",
    "fifteen_year_zipcodes = ['98115', '98133', '98116', '98101', '98177', '98198', '98109', '98108', '98104', '98107', '98112', '98118', '98126', '98125', '98168', '98121', '98148', '98136', '98105', '98122', '98178', '98146', '98155', '98117', '98144', '98188', '98110', '98164', '98199', '98134', '98166', '98103', '98106', '98119', '98102']"
   ]
  },
  {
   "cell_type": "code",
   "execution_count": null,
   "metadata": {
    "collapsed": true
   },
   "outputs": [],
   "source": [
    "# There is a limited number of columns that are present in all datasets. In particular,\n",
    "# 1998 and some of the earliest datasets have < 20 columns. Luckily the column that is present\n",
    "# in all of them is the salaries and wages amount + returns.\n",
    "# The plan is to get salaries_and_wages_amount / salaries_and_wages_returns for zipcode in\n",
    "# the fifteen_year_zipcodes list, for all datasets. This should give some vague notion\n",
    "# as to how incomes have changed for people submitting tax returns in given zipcdes\n",
    "# over the years.\n"
   ]
  }
 ],
 "metadata": {
  "kernelspec": {
   "display_name": "Python 3",
   "language": "python",
   "name": "python3"
  },
  "language_info": {
   "codemirror_mode": {
    "name": "ipython",
    "version": 3
   },
   "file_extension": ".py",
   "mimetype": "text/x-python",
   "name": "python",
   "nbconvert_exporter": "python",
   "pygments_lexer": "ipython3",
   "version": "3.6.1"
  }
 },
 "nbformat": 4,
 "nbformat_minor": 2
}
